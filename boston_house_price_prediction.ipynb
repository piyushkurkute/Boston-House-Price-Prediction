{
 "cells": [
  {
   "cell_type": "code",
   "execution_count": 1,
   "metadata": {},
   "outputs": [],
   "source": [
    "import warnings\n",
    "warnings.filterwarnings('ignore')"
   ]
  },
  {
   "cell_type": "code",
   "execution_count": 2,
   "metadata": {},
   "outputs": [],
   "source": [
    "import numpy as np\n",
    "import pandas as pd\n",
    "import seaborn as sns\n",
    "import matplotlib.pyplot as plt\n",
    "\n",
    "%matplotlib inline\n",
    "sns.set_style(style='whitegrid')"
   ]
  },
  {
   "cell_type": "code",
   "execution_count": 4,
   "metadata": {},
   "outputs": [],
   "source": [
    "df_housing = pd.read_csv('boston_house_price_data.csv')"
   ]
  },
  {
   "cell_type": "code",
   "execution_count": 10,
   "metadata": {},
   "outputs": [
    {
     "name": "stdout",
     "output_type": "stream",
     "text": [
      "<class 'pandas.core.frame.DataFrame'>\n",
      "RangeIndex: 506 entries, 0 to 505\n",
      "Data columns (total 14 columns):\n",
      " #   Column   Non-Null Count  Dtype  \n",
      "---  ------   --------------  -----  \n",
      " 0   CRIM     486 non-null    float64\n",
      " 1   ZN       486 non-null    float64\n",
      " 2   INDUS    486 non-null    float64\n",
      " 3   CHAS     486 non-null    float64\n",
      " 4   NOX      506 non-null    float64\n",
      " 5   RM       506 non-null    float64\n",
      " 6   AGE      486 non-null    float64\n",
      " 7   DIS      506 non-null    float64\n",
      " 8   RAD      506 non-null    int64  \n",
      " 9   TAX      506 non-null    int64  \n",
      " 10  PTRATIO  506 non-null    float64\n",
      " 11  B        506 non-null    float64\n",
      " 12  LSTAT    486 non-null    float64\n",
      " 13  MEDV     506 non-null    float64\n",
      "dtypes: float64(12), int64(2)\n",
      "memory usage: 55.5 KB\n"
     ]
    }
   ],
   "source": [
    "# get info like total rows, total columns and their data types, missing valeus\n",
    "df_housing.info()"
   ]
  },
  {
   "cell_type": "code",
   "execution_count": 11,
   "metadata": {},
   "outputs": [
    {
     "data": {
      "text/html": [
       "<div>\n",
       "<style scoped>\n",
       "    .dataframe tbody tr th:only-of-type {\n",
       "        vertical-align: middle;\n",
       "    }\n",
       "\n",
       "    .dataframe tbody tr th {\n",
       "        vertical-align: top;\n",
       "    }\n",
       "\n",
       "    .dataframe thead th {\n",
       "        text-align: right;\n",
       "    }\n",
       "</style>\n",
       "<table border=\"1\" class=\"dataframe\">\n",
       "  <thead>\n",
       "    <tr style=\"text-align: right;\">\n",
       "      <th></th>\n",
       "      <th>CRIM</th>\n",
       "      <th>ZN</th>\n",
       "      <th>INDUS</th>\n",
       "      <th>CHAS</th>\n",
       "      <th>NOX</th>\n",
       "      <th>RM</th>\n",
       "      <th>AGE</th>\n",
       "      <th>DIS</th>\n",
       "      <th>RAD</th>\n",
       "      <th>TAX</th>\n",
       "      <th>PTRATIO</th>\n",
       "      <th>B</th>\n",
       "      <th>LSTAT</th>\n",
       "      <th>MEDV</th>\n",
       "    </tr>\n",
       "  </thead>\n",
       "  <tbody>\n",
       "    <tr>\n",
       "      <th>count</th>\n",
       "      <td>486.000000</td>\n",
       "      <td>486.000000</td>\n",
       "      <td>486.000000</td>\n",
       "      <td>486.000000</td>\n",
       "      <td>506.000000</td>\n",
       "      <td>506.000000</td>\n",
       "      <td>486.000000</td>\n",
       "      <td>506.000000</td>\n",
       "      <td>506.000000</td>\n",
       "      <td>506.000000</td>\n",
       "      <td>506.000000</td>\n",
       "      <td>506.000000</td>\n",
       "      <td>486.000000</td>\n",
       "      <td>506.000000</td>\n",
       "    </tr>\n",
       "    <tr>\n",
       "      <th>mean</th>\n",
       "      <td>3.611874</td>\n",
       "      <td>11.211934</td>\n",
       "      <td>11.083992</td>\n",
       "      <td>0.069959</td>\n",
       "      <td>0.554695</td>\n",
       "      <td>6.284634</td>\n",
       "      <td>68.518519</td>\n",
       "      <td>3.795043</td>\n",
       "      <td>9.549407</td>\n",
       "      <td>408.237154</td>\n",
       "      <td>18.455534</td>\n",
       "      <td>356.674032</td>\n",
       "      <td>12.715432</td>\n",
       "      <td>22.532806</td>\n",
       "    </tr>\n",
       "    <tr>\n",
       "      <th>std</th>\n",
       "      <td>8.720192</td>\n",
       "      <td>23.388876</td>\n",
       "      <td>6.835896</td>\n",
       "      <td>0.255340</td>\n",
       "      <td>0.115878</td>\n",
       "      <td>0.702617</td>\n",
       "      <td>27.999513</td>\n",
       "      <td>2.105710</td>\n",
       "      <td>8.707259</td>\n",
       "      <td>168.537116</td>\n",
       "      <td>2.164946</td>\n",
       "      <td>91.294864</td>\n",
       "      <td>7.155871</td>\n",
       "      <td>9.197104</td>\n",
       "    </tr>\n",
       "    <tr>\n",
       "      <th>min</th>\n",
       "      <td>0.006320</td>\n",
       "      <td>0.000000</td>\n",
       "      <td>0.460000</td>\n",
       "      <td>0.000000</td>\n",
       "      <td>0.385000</td>\n",
       "      <td>3.561000</td>\n",
       "      <td>2.900000</td>\n",
       "      <td>1.129600</td>\n",
       "      <td>1.000000</td>\n",
       "      <td>187.000000</td>\n",
       "      <td>12.600000</td>\n",
       "      <td>0.320000</td>\n",
       "      <td>1.730000</td>\n",
       "      <td>5.000000</td>\n",
       "    </tr>\n",
       "    <tr>\n",
       "      <th>25%</th>\n",
       "      <td>0.081900</td>\n",
       "      <td>0.000000</td>\n",
       "      <td>5.190000</td>\n",
       "      <td>0.000000</td>\n",
       "      <td>0.449000</td>\n",
       "      <td>5.885500</td>\n",
       "      <td>45.175000</td>\n",
       "      <td>2.100175</td>\n",
       "      <td>4.000000</td>\n",
       "      <td>279.000000</td>\n",
       "      <td>17.400000</td>\n",
       "      <td>375.377500</td>\n",
       "      <td>7.125000</td>\n",
       "      <td>17.025000</td>\n",
       "    </tr>\n",
       "    <tr>\n",
       "      <th>50%</th>\n",
       "      <td>0.253715</td>\n",
       "      <td>0.000000</td>\n",
       "      <td>9.690000</td>\n",
       "      <td>0.000000</td>\n",
       "      <td>0.538000</td>\n",
       "      <td>6.208500</td>\n",
       "      <td>76.800000</td>\n",
       "      <td>3.207450</td>\n",
       "      <td>5.000000</td>\n",
       "      <td>330.000000</td>\n",
       "      <td>19.050000</td>\n",
       "      <td>391.440000</td>\n",
       "      <td>11.430000</td>\n",
       "      <td>21.200000</td>\n",
       "    </tr>\n",
       "    <tr>\n",
       "      <th>75%</th>\n",
       "      <td>3.560262</td>\n",
       "      <td>12.500000</td>\n",
       "      <td>18.100000</td>\n",
       "      <td>0.000000</td>\n",
       "      <td>0.624000</td>\n",
       "      <td>6.623500</td>\n",
       "      <td>93.975000</td>\n",
       "      <td>5.188425</td>\n",
       "      <td>24.000000</td>\n",
       "      <td>666.000000</td>\n",
       "      <td>20.200000</td>\n",
       "      <td>396.225000</td>\n",
       "      <td>16.955000</td>\n",
       "      <td>25.000000</td>\n",
       "    </tr>\n",
       "    <tr>\n",
       "      <th>max</th>\n",
       "      <td>88.976200</td>\n",
       "      <td>100.000000</td>\n",
       "      <td>27.740000</td>\n",
       "      <td>1.000000</td>\n",
       "      <td>0.871000</td>\n",
       "      <td>8.780000</td>\n",
       "      <td>100.000000</td>\n",
       "      <td>12.126500</td>\n",
       "      <td>24.000000</td>\n",
       "      <td>711.000000</td>\n",
       "      <td>22.000000</td>\n",
       "      <td>396.900000</td>\n",
       "      <td>37.970000</td>\n",
       "      <td>50.000000</td>\n",
       "    </tr>\n",
       "  </tbody>\n",
       "</table>\n",
       "</div>"
      ],
      "text/plain": [
       "             CRIM          ZN       INDUS        CHAS         NOX          RM  \\\n",
       "count  486.000000  486.000000  486.000000  486.000000  506.000000  506.000000   \n",
       "mean     3.611874   11.211934   11.083992    0.069959    0.554695    6.284634   \n",
       "std      8.720192   23.388876    6.835896    0.255340    0.115878    0.702617   \n",
       "min      0.006320    0.000000    0.460000    0.000000    0.385000    3.561000   \n",
       "25%      0.081900    0.000000    5.190000    0.000000    0.449000    5.885500   \n",
       "50%      0.253715    0.000000    9.690000    0.000000    0.538000    6.208500   \n",
       "75%      3.560262   12.500000   18.100000    0.000000    0.624000    6.623500   \n",
       "max     88.976200  100.000000   27.740000    1.000000    0.871000    8.780000   \n",
       "\n",
       "              AGE         DIS         RAD         TAX     PTRATIO           B  \\\n",
       "count  486.000000  506.000000  506.000000  506.000000  506.000000  506.000000   \n",
       "mean    68.518519    3.795043    9.549407  408.237154   18.455534  356.674032   \n",
       "std     27.999513    2.105710    8.707259  168.537116    2.164946   91.294864   \n",
       "min      2.900000    1.129600    1.000000  187.000000   12.600000    0.320000   \n",
       "25%     45.175000    2.100175    4.000000  279.000000   17.400000  375.377500   \n",
       "50%     76.800000    3.207450    5.000000  330.000000   19.050000  391.440000   \n",
       "75%     93.975000    5.188425   24.000000  666.000000   20.200000  396.225000   \n",
       "max    100.000000   12.126500   24.000000  711.000000   22.000000  396.900000   \n",
       "\n",
       "            LSTAT        MEDV  \n",
       "count  486.000000  506.000000  \n",
       "mean    12.715432   22.532806  \n",
       "std      7.155871    9.197104  \n",
       "min      1.730000    5.000000  \n",
       "25%      7.125000   17.025000  \n",
       "50%     11.430000   21.200000  \n",
       "75%     16.955000   25.000000  \n",
       "max     37.970000   50.000000  "
      ]
     },
     "execution_count": 11,
     "metadata": {},
     "output_type": "execute_result"
    }
   ],
   "source": [
    "# get stats info\n",
    "df_housing.describe()"
   ]
  },
  {
   "cell_type": "code",
   "execution_count": 12,
   "metadata": {},
   "outputs": [
    {
     "data": {
      "text/html": [
       "<div>\n",
       "<style scoped>\n",
       "    .dataframe tbody tr th:only-of-type {\n",
       "        vertical-align: middle;\n",
       "    }\n",
       "\n",
       "    .dataframe tbody tr th {\n",
       "        vertical-align: top;\n",
       "    }\n",
       "\n",
       "    .dataframe thead th {\n",
       "        text-align: right;\n",
       "    }\n",
       "</style>\n",
       "<table border=\"1\" class=\"dataframe\">\n",
       "  <thead>\n",
       "    <tr style=\"text-align: right;\">\n",
       "      <th></th>\n",
       "      <th>CRIM</th>\n",
       "      <th>ZN</th>\n",
       "      <th>INDUS</th>\n",
       "      <th>CHAS</th>\n",
       "      <th>NOX</th>\n",
       "      <th>RM</th>\n",
       "      <th>AGE</th>\n",
       "      <th>DIS</th>\n",
       "      <th>RAD</th>\n",
       "      <th>TAX</th>\n",
       "      <th>PTRATIO</th>\n",
       "      <th>B</th>\n",
       "      <th>LSTAT</th>\n",
       "      <th>MEDV</th>\n",
       "    </tr>\n",
       "  </thead>\n",
       "  <tbody>\n",
       "    <tr>\n",
       "      <th>0</th>\n",
       "      <td>0.00632</td>\n",
       "      <td>18.0</td>\n",
       "      <td>2.31</td>\n",
       "      <td>0.0</td>\n",
       "      <td>0.538</td>\n",
       "      <td>6.575</td>\n",
       "      <td>65.2</td>\n",
       "      <td>4.0900</td>\n",
       "      <td>1</td>\n",
       "      <td>296</td>\n",
       "      <td>15.3</td>\n",
       "      <td>396.90</td>\n",
       "      <td>4.98</td>\n",
       "      <td>24.0</td>\n",
       "    </tr>\n",
       "    <tr>\n",
       "      <th>1</th>\n",
       "      <td>0.02731</td>\n",
       "      <td>0.0</td>\n",
       "      <td>7.07</td>\n",
       "      <td>0.0</td>\n",
       "      <td>0.469</td>\n",
       "      <td>6.421</td>\n",
       "      <td>78.9</td>\n",
       "      <td>4.9671</td>\n",
       "      <td>2</td>\n",
       "      <td>242</td>\n",
       "      <td>17.8</td>\n",
       "      <td>396.90</td>\n",
       "      <td>9.14</td>\n",
       "      <td>21.6</td>\n",
       "    </tr>\n",
       "    <tr>\n",
       "      <th>2</th>\n",
       "      <td>0.02729</td>\n",
       "      <td>0.0</td>\n",
       "      <td>7.07</td>\n",
       "      <td>0.0</td>\n",
       "      <td>0.469</td>\n",
       "      <td>7.185</td>\n",
       "      <td>61.1</td>\n",
       "      <td>4.9671</td>\n",
       "      <td>2</td>\n",
       "      <td>242</td>\n",
       "      <td>17.8</td>\n",
       "      <td>392.83</td>\n",
       "      <td>4.03</td>\n",
       "      <td>34.7</td>\n",
       "    </tr>\n",
       "    <tr>\n",
       "      <th>3</th>\n",
       "      <td>0.03237</td>\n",
       "      <td>0.0</td>\n",
       "      <td>2.18</td>\n",
       "      <td>0.0</td>\n",
       "      <td>0.458</td>\n",
       "      <td>6.998</td>\n",
       "      <td>45.8</td>\n",
       "      <td>6.0622</td>\n",
       "      <td>3</td>\n",
       "      <td>222</td>\n",
       "      <td>18.7</td>\n",
       "      <td>394.63</td>\n",
       "      <td>2.94</td>\n",
       "      <td>33.4</td>\n",
       "    </tr>\n",
       "    <tr>\n",
       "      <th>4</th>\n",
       "      <td>0.06905</td>\n",
       "      <td>0.0</td>\n",
       "      <td>2.18</td>\n",
       "      <td>0.0</td>\n",
       "      <td>0.458</td>\n",
       "      <td>7.147</td>\n",
       "      <td>54.2</td>\n",
       "      <td>6.0622</td>\n",
       "      <td>3</td>\n",
       "      <td>222</td>\n",
       "      <td>18.7</td>\n",
       "      <td>396.90</td>\n",
       "      <td>NaN</td>\n",
       "      <td>36.2</td>\n",
       "    </tr>\n",
       "  </tbody>\n",
       "</table>\n",
       "</div>"
      ],
      "text/plain": [
       "      CRIM    ZN  INDUS  CHAS    NOX     RM   AGE     DIS  RAD  TAX  PTRATIO  \\\n",
       "0  0.00632  18.0   2.31   0.0  0.538  6.575  65.2  4.0900    1  296     15.3   \n",
       "1  0.02731   0.0   7.07   0.0  0.469  6.421  78.9  4.9671    2  242     17.8   \n",
       "2  0.02729   0.0   7.07   0.0  0.469  7.185  61.1  4.9671    2  242     17.8   \n",
       "3  0.03237   0.0   2.18   0.0  0.458  6.998  45.8  6.0622    3  222     18.7   \n",
       "4  0.06905   0.0   2.18   0.0  0.458  7.147  54.2  6.0622    3  222     18.7   \n",
       "\n",
       "        B  LSTAT  MEDV  \n",
       "0  396.90   4.98  24.0  \n",
       "1  396.90   9.14  21.6  \n",
       "2  392.83   4.03  34.7  \n",
       "3  394.63   2.94  33.4  \n",
       "4  396.90    NaN  36.2  "
      ]
     },
     "execution_count": 12,
     "metadata": {},
     "output_type": "execute_result"
    }
   ],
   "source": [
    "df_housing.head()"
   ]
  },
  {
   "cell_type": "code",
   "execution_count": 13,
   "metadata": {},
   "outputs": [
    {
     "data": {
      "image/png": "[encoded data removed]",
      "text/plain": [
       "<Figure size 1440x1080 with 16 Axes>"
      ]
     },
     "metadata": {
      "needs_background": "light"
     },
     "output_type": "display_data"
    }
   ],
   "source": [
    "df_housing.hist(figsize=(20,15), bins=50)\n",
    "plt.show()"
   ]
  },
  {
   "cell_type": "code",
   "execution_count": null,
   "metadata": {},
   "outputs": [],
   "source": []
  },
  {
   "cell_type": "markdown",
   "metadata": {},
   "source": [
    "### Check for outliers"
   ]
  },
  {
   "cell_type": "code",
   "execution_count": 14,
   "metadata": {},
   "outputs": [
    {
     "data": {
      "image/png": "[encoded data removed]",
      "text/plain": [
       "<Figure size 1080x864 with 14 Axes>"
      ]
     },
     "metadata": {
      "needs_background": "light"
     },
     "output_type": "display_data"
    }
   ],
   "source": [
    "plt.figure(figsize=(15,12))\n",
    "i=1\n",
    "flag = False\n",
    "cols = df_housing.columns\n",
    "for col in cols:\n",
    "    plt.subplot(len(cols),2,i)\n",
    "    sns.boxplot(df_housing[col])\n",
    "    plt.xlabel(s=col,size=15)\n",
    "    \n",
    "    if i % 2 == 0: i += 3 \n",
    "    else: i += 1"
   ]
  },
  {
   "cell_type": "code",
   "execution_count": null,
   "metadata": {},
   "outputs": [],
   "source": []
  },
  {
   "cell_type": "markdown",
   "metadata": {},
   "source": [
    "### Remove outliers"
   ]
  },
  {
   "cell_type": "code",
   "execution_count": 15,
   "metadata": {},
   "outputs": [],
   "source": [
    "def remove_outliers(df, cols):\n",
    "    tot_ol_index = set()\n",
    "    \n",
    "    for col in cols:\n",
    "        srt_values = df[df[col].isnull() == False][col].sort_values().values\n",
    "        Q1, Q2, Q3 = np.quantile(srt_values,[0.25,0.5,0.75])\n",
    "        IQR = Q3 - Q1\n",
    "        lw_lim = Q1 - (1.5 * IQR)\n",
    "        up_lim = Q3 + (1.5 * IQR)\n",
    "\n",
    "        ids = df[(df[col] < lw_lim) | (df[col] > up_lim)][col].index.values\n",
    "        tot_ol_index.update(ids)\n",
    "        pass        \n",
    "    return tot_ol_index, df[~df.index.isin(tot_ol_index)]"
   ]
  },
  {
   "cell_type": "code",
   "execution_count": 16,
   "metadata": {},
   "outputs": [],
   "source": [
    "cols = list(df_housing.drop('CHAS', axis=1).columns)"
   ]
  },
  {
   "cell_type": "code",
   "execution_count": 17,
   "metadata": {},
   "outputs": [],
   "source": [
    "tot_ol_ids, df = remove_outliers(df_housing, cols)"
   ]
  },
  {
   "cell_type": "code",
   "execution_count": 18,
   "metadata": {},
   "outputs": [
    {
     "data": {
      "text/plain": [
       "214"
      ]
     },
     "execution_count": 18,
     "metadata": {},
     "output_type": "execute_result"
    }
   ],
   "source": [
    "len(tot_ol_ids)"
   ]
  },
  {
   "cell_type": "code",
   "execution_count": 19,
   "metadata": {},
   "outputs": [
    {
     "data": {
      "text/plain": [
       "(292, 14)"
      ]
     },
     "execution_count": 19,
     "metadata": {},
     "output_type": "execute_result"
    }
   ],
   "source": [
    "df.shape"
   ]
  },
  {
   "cell_type": "code",
   "execution_count": 21,
   "metadata": {},
   "outputs": [
    {
     "data": {
      "text/plain": [
       "(506, 14)"
      ]
     },
     "execution_count": 21,
     "metadata": {},
     "output_type": "execute_result"
    }
   ],
   "source": [
    "df_housing.shape"
   ]
  },
  {
   "cell_type": "code",
   "execution_count": null,
   "metadata": {},
   "outputs": [],
   "source": []
  },
  {
   "cell_type": "markdown",
   "metadata": {},
   "source": [
    "### Checking for missing values and scaling dataset"
   ]
  },
  {
   "cell_type": "code",
   "execution_count": 22,
   "metadata": {},
   "outputs": [
    {
     "data": {
      "text/plain": [
       "INDUS      14\n",
       "LSTAT      12\n",
       "AGE        11\n",
       "CHAS       11\n",
       "ZN         10\n",
       "CRIM        8\n",
       "MEDV        0\n",
       "B           0\n",
       "PTRATIO     0\n",
       "TAX         0\n",
       "RAD         0\n",
       "DIS         0\n",
       "RM          0\n",
       "NOX         0\n",
       "dtype: int64"
      ]
     },
     "execution_count": 22,
     "metadata": {},
     "output_type": "execute_result"
    }
   ],
   "source": [
    "df.isnull().sum().sort_values(ascending=False)"
   ]
  },
  {
   "cell_type": "code",
   "execution_count": null,
   "metadata": {},
   "outputs": [],
   "source": []
  },
  {
   "cell_type": "code",
   "execution_count": 23,
   "metadata": {},
   "outputs": [],
   "source": [
    "from sklearn.preprocessing import Imputer, StandardScaler\n",
    "from sklearn.pipeline import Pipeline, FeatureUnion"
   ]
  },
  {
   "cell_type": "code",
   "execution_count": 24,
   "metadata": {},
   "outputs": [],
   "source": [
    "class DataFrameSelector():\n",
    "    def __init__(self, features):\n",
    "        self.features = features\n",
    "    \n",
    "    def fit(self, X, y=None):\n",
    "        return self\n",
    "    \n",
    "    def transform(self, X):\n",
    "        return X[self.features].values"
   ]
  },
  {
   "cell_type": "code",
   "execution_count": 25,
   "metadata": {},
   "outputs": [],
   "source": [
    "cols_cat = ['CHAS']\n",
    "cols_num = list(df_housing.columns.drop(['MEDV','CHAS']))"
   ]
  },
  {
   "cell_type": "code",
   "execution_count": 26,
   "metadata": {},
   "outputs": [],
   "source": [
    "cat_ppl = Pipeline([\n",
    "                        ('data_frame_selector', DataFrameSelector(cols_cat)),\n",
    "                        ('imputer', Imputer(strategy='most_frequent')), \n",
    "                ])\n",
    "\n",
    "num_ppl = Pipeline([\n",
    "                        ('data_frame_selector', DataFrameSelector(cols_num)),\n",
    "                        ('imputer', Imputer(strategy='median')),\n",
    "                        ('std_scaler', StandardScaler())\n",
    "                ])\n",
    "\n",
    "full_ppl = FeatureUnion(transformer_list=[\n",
    "                                            ('cat_ppl', cat_ppl),\n",
    "                                            ('num_ppl', num_ppl)\n",
    "                                        ])"
   ]
  },
  {
   "cell_type": "code",
   "execution_count": 27,
   "metadata": {},
   "outputs": [],
   "source": [
    "prepared_data = full_ppl.fit_transform(df)"
   ]
  },
  {
   "cell_type": "code",
   "execution_count": 28,
   "metadata": {},
   "outputs": [
    {
     "data": {
      "text/html": [
       "<div>\n",
       "<style scoped>\n",
       "    .dataframe tbody tr th:only-of-type {\n",
       "        vertical-align: middle;\n",
       "    }\n",
       "\n",
       "    .dataframe tbody tr th {\n",
       "        vertical-align: top;\n",
       "    }\n",
       "\n",
       "    .dataframe thead th {\n",
       "        text-align: right;\n",
       "    }\n",
       "</style>\n",
       "<table border=\"1\" class=\"dataframe\">\n",
       "  <thead>\n",
       "    <tr style=\"text-align: right;\">\n",
       "      <th></th>\n",
       "      <th>CHAS</th>\n",
       "      <th>CRIM</th>\n",
       "      <th>ZN</th>\n",
       "      <th>INDUS</th>\n",
       "      <th>NOX</th>\n",
       "      <th>RM</th>\n",
       "      <th>AGE</th>\n",
       "      <th>DIS</th>\n",
       "      <th>RAD</th>\n",
       "      <th>TAX</th>\n",
       "      <th>PTRATIO</th>\n",
       "      <th>B</th>\n",
       "      <th>LSTAT</th>\n",
       "    </tr>\n",
       "  </thead>\n",
       "  <tbody>\n",
       "    <tr>\n",
       "      <th>0</th>\n",
       "      <td>0.0</td>\n",
       "      <td>-0.520621</td>\n",
       "      <td>1.756789</td>\n",
       "      <td>-1.348057</td>\n",
       "      <td>0.027446</td>\n",
       "      <td>0.918594</td>\n",
       "      <td>-0.047080</td>\n",
       "      <td>0.055799</td>\n",
       "      <td>-0.899533</td>\n",
       "      <td>-0.468708</td>\n",
       "      <td>-1.968101</td>\n",
       "      <td>0.701976</td>\n",
       "      <td>-1.339965</td>\n",
       "    </tr>\n",
       "    <tr>\n",
       "      <th>1</th>\n",
       "      <td>0.0</td>\n",
       "      <td>-0.509409</td>\n",
       "      <td>-0.432585</td>\n",
       "      <td>-0.557917</td>\n",
       "      <td>-0.666213</td>\n",
       "      <td>0.567502</td>\n",
       "      <td>0.483000</td>\n",
       "      <td>0.556424</td>\n",
       "      <td>-0.752382</td>\n",
       "      <td>-0.853554</td>\n",
       "      <td>-0.534541</td>\n",
       "      <td>0.701976</td>\n",
       "      <td>-0.560778</td>\n",
       "    </tr>\n",
       "    <tr>\n",
       "      <th>2</th>\n",
       "      <td>0.0</td>\n",
       "      <td>-0.509419</td>\n",
       "      <td>-0.432585</td>\n",
       "      <td>-0.557917</td>\n",
       "      <td>-0.666213</td>\n",
       "      <td>2.309281</td>\n",
       "      <td>-0.205716</td>\n",
       "      <td>0.556424</td>\n",
       "      <td>-0.752382</td>\n",
       "      <td>-0.853554</td>\n",
       "      <td>-0.534541</td>\n",
       "      <td>0.338195</td>\n",
       "      <td>-1.517905</td>\n",
       "    </tr>\n",
       "    <tr>\n",
       "      <th>3</th>\n",
       "      <td>0.0</td>\n",
       "      <td>-0.506706</td>\n",
       "      <td>-0.432585</td>\n",
       "      <td>-1.369636</td>\n",
       "      <td>-0.776796</td>\n",
       "      <td>1.882955</td>\n",
       "      <td>-0.797703</td>\n",
       "      <td>1.181476</td>\n",
       "      <td>-0.605232</td>\n",
       "      <td>-0.996090</td>\n",
       "      <td>-0.018460</td>\n",
       "      <td>0.499081</td>\n",
       "      <td>-1.722067</td>\n",
       "    </tr>\n",
       "    <tr>\n",
       "      <th>4</th>\n",
       "      <td>0.0</td>\n",
       "      <td>-0.487112</td>\n",
       "      <td>-0.432585</td>\n",
       "      <td>-1.369636</td>\n",
       "      <td>-0.776796</td>\n",
       "      <td>2.222648</td>\n",
       "      <td>-0.472691</td>\n",
       "      <td>1.181476</td>\n",
       "      <td>-0.605232</td>\n",
       "      <td>-0.996090</td>\n",
       "      <td>-0.018460</td>\n",
       "      <td>0.701976</td>\n",
       "      <td>-0.144962</td>\n",
       "    </tr>\n",
       "  </tbody>\n",
       "</table>\n",
       "</div>"
      ],
      "text/plain": [
       "   CHAS      CRIM        ZN     INDUS       NOX        RM       AGE       DIS  \\\n",
       "0   0.0 -0.520621  1.756789 -1.348057  0.027446  0.918594 -0.047080  0.055799   \n",
       "1   0.0 -0.509409 -0.432585 -0.557917 -0.666213  0.567502  0.483000  0.556424   \n",
       "2   0.0 -0.509419 -0.432585 -0.557917 -0.666213  2.309281 -0.205716  0.556424   \n",
       "3   0.0 -0.506706 -0.432585 -1.369636 -0.776796  1.882955 -0.797703  1.181476   \n",
       "4   0.0 -0.487112 -0.432585 -1.369636 -0.776796  2.222648 -0.472691  1.181476   \n",
       "\n",
       "        RAD       TAX   PTRATIO         B     LSTAT  \n",
       "0 -0.899533 -0.468708 -1.968101  0.701976 -1.339965  \n",
       "1 -0.752382 -0.853554 -0.534541  0.701976 -0.560778  \n",
       "2 -0.752382 -0.853554 -0.534541  0.338195 -1.517905  \n",
       "3 -0.605232 -0.996090 -0.018460  0.499081 -1.722067  \n",
       "4 -0.605232 -0.996090 -0.018460  0.701976 -0.144962  "
      ]
     },
     "execution_count": 28,
     "metadata": {},
     "output_type": "execute_result"
    }
   ],
   "source": [
    "cols_all = cols_cat + cols_num\n",
    "df_prepared = pd.DataFrame(data=prepared_data, columns=cols_all)\n",
    "df_prepared.head()"
   ]
  },
  {
   "cell_type": "code",
   "execution_count": null,
   "metadata": {},
   "outputs": [],
   "source": []
  },
  {
   "cell_type": "markdown",
   "metadata": {},
   "source": [
    "### Concatination of both prepared data and target(MEDV)\n",
    "\n",
    "\n",
    "Here total no. of rows(291) are equal in both but index is different.\n",
    "\n",
    "-> prepared data set have index range from 0 to 292\n",
    "\n",
    "-> target(MEDV) have original dataset index 0 to 505(outliers are removed). It will put empty rows for unmatching indexes.\n",
    "\n",
    "1. reset index of target(MEDV) same as prepared data from 0 to 292\n",
    "2. concat two data set and make final dataframe."
   ]
  },
  {
   "cell_type": "code",
   "execution_count": 29,
   "metadata": {},
   "outputs": [
    {
     "name": "stdout",
     "output_type": "stream",
     "text": [
      "shape:  (292, 13)\n",
      "index:  RangeIndex(start=0, stop=292, step=1)\n"
     ]
    }
   ],
   "source": [
    "print('shape: ', df_prepared.shape)\n",
    "print('index: ', df_prepared.index)"
   ]
  },
  {
   "cell_type": "code",
   "execution_count": 30,
   "metadata": {},
   "outputs": [
    {
     "name": "stdout",
     "output_type": "stream",
     "text": [
      "shape:  (292,)\n",
      "index:  Int64Index([  0,   1,   2,   3,   4,   5,   6,   7,   8,   9,\n",
      "            ...\n",
      "            496, 497, 498, 499, 500, 501, 502, 503, 504, 505],\n",
      "           dtype='int64', length=292)\n"
     ]
    }
   ],
   "source": [
    "print('shape: ', df['MEDV'].shape)\n",
    "print('index: ', df['MEDV'].index)"
   ]
  },
  {
   "cell_type": "code",
   "execution_count": null,
   "metadata": {},
   "outputs": [],
   "source": []
  },
  {
   "cell_type": "code",
   "execution_count": 31,
   "metadata": {},
   "outputs": [],
   "source": [
    "# creating index range from o to 291\n",
    "new_index = [i for i in range(292)]"
   ]
  },
  {
   "cell_type": "code",
   "execution_count": 32,
   "metadata": {},
   "outputs": [],
   "source": [
    "sub_df = df[['MEDV']]"
   ]
  },
  {
   "cell_type": "code",
   "execution_count": 33,
   "metadata": {},
   "outputs": [],
   "source": [
    "sub_df.set_index(pd.Series(new_index), inplace = True)"
   ]
  },
  {
   "cell_type": "code",
   "execution_count": 34,
   "metadata": {},
   "outputs": [
    {
     "data": {
      "text/plain": [
       "Int64Index([  0,   1,   2,   3,   4,   5,   6,   7,   8,   9,\n",
       "            ...\n",
       "            282, 283, 284, 285, 286, 287, 288, 289, 290, 291],\n",
       "           dtype='int64', length=292)"
      ]
     },
     "execution_count": 34,
     "metadata": {},
     "output_type": "execute_result"
    }
   ],
   "source": [
    "sub_df.index"
   ]
  },
  {
   "cell_type": "code",
   "execution_count": null,
   "metadata": {},
   "outputs": [],
   "source": []
  },
  {
   "cell_type": "code",
   "execution_count": 35,
   "metadata": {},
   "outputs": [
    {
     "data": {
      "text/html": [
       "<div>\n",
       "<style scoped>\n",
       "    .dataframe tbody tr th:only-of-type {\n",
       "        vertical-align: middle;\n",
       "    }\n",
       "\n",
       "    .dataframe tbody tr th {\n",
       "        vertical-align: top;\n",
       "    }\n",
       "\n",
       "    .dataframe thead th {\n",
       "        text-align: right;\n",
       "    }\n",
       "</style>\n",
       "<table border=\"1\" class=\"dataframe\">\n",
       "  <thead>\n",
       "    <tr style=\"text-align: right;\">\n",
       "      <th></th>\n",
       "      <th>CHAS</th>\n",
       "      <th>CRIM</th>\n",
       "      <th>ZN</th>\n",
       "      <th>INDUS</th>\n",
       "      <th>NOX</th>\n",
       "      <th>RM</th>\n",
       "      <th>AGE</th>\n",
       "      <th>DIS</th>\n",
       "      <th>RAD</th>\n",
       "      <th>TAX</th>\n",
       "      <th>PTRATIO</th>\n",
       "      <th>B</th>\n",
       "      <th>LSTAT</th>\n",
       "      <th>MEDV</th>\n",
       "    </tr>\n",
       "  </thead>\n",
       "  <tbody>\n",
       "    <tr>\n",
       "      <th>0</th>\n",
       "      <td>0.0</td>\n",
       "      <td>-0.520621</td>\n",
       "      <td>1.756789</td>\n",
       "      <td>-1.348057</td>\n",
       "      <td>0.027446</td>\n",
       "      <td>0.918594</td>\n",
       "      <td>-0.047080</td>\n",
       "      <td>0.055799</td>\n",
       "      <td>-0.899533</td>\n",
       "      <td>-0.468708</td>\n",
       "      <td>-1.968101</td>\n",
       "      <td>0.701976</td>\n",
       "      <td>-1.339965</td>\n",
       "      <td>24.0</td>\n",
       "    </tr>\n",
       "    <tr>\n",
       "      <th>1</th>\n",
       "      <td>0.0</td>\n",
       "      <td>-0.509409</td>\n",
       "      <td>-0.432585</td>\n",
       "      <td>-0.557917</td>\n",
       "      <td>-0.666213</td>\n",
       "      <td>0.567502</td>\n",
       "      <td>0.483000</td>\n",
       "      <td>0.556424</td>\n",
       "      <td>-0.752382</td>\n",
       "      <td>-0.853554</td>\n",
       "      <td>-0.534541</td>\n",
       "      <td>0.701976</td>\n",
       "      <td>-0.560778</td>\n",
       "      <td>21.6</td>\n",
       "    </tr>\n",
       "    <tr>\n",
       "      <th>2</th>\n",
       "      <td>0.0</td>\n",
       "      <td>-0.509419</td>\n",
       "      <td>-0.432585</td>\n",
       "      <td>-0.557917</td>\n",
       "      <td>-0.666213</td>\n",
       "      <td>2.309281</td>\n",
       "      <td>-0.205716</td>\n",
       "      <td>0.556424</td>\n",
       "      <td>-0.752382</td>\n",
       "      <td>-0.853554</td>\n",
       "      <td>-0.534541</td>\n",
       "      <td>0.338195</td>\n",
       "      <td>-1.517905</td>\n",
       "      <td>34.7</td>\n",
       "    </tr>\n",
       "    <tr>\n",
       "      <th>3</th>\n",
       "      <td>0.0</td>\n",
       "      <td>-0.506706</td>\n",
       "      <td>-0.432585</td>\n",
       "      <td>-1.369636</td>\n",
       "      <td>-0.776796</td>\n",
       "      <td>1.882955</td>\n",
       "      <td>-0.797703</td>\n",
       "      <td>1.181476</td>\n",
       "      <td>-0.605232</td>\n",
       "      <td>-0.996090</td>\n",
       "      <td>-0.018460</td>\n",
       "      <td>0.499081</td>\n",
       "      <td>-1.722067</td>\n",
       "      <td>33.4</td>\n",
       "    </tr>\n",
       "    <tr>\n",
       "      <th>4</th>\n",
       "      <td>0.0</td>\n",
       "      <td>-0.487112</td>\n",
       "      <td>-0.432585</td>\n",
       "      <td>-1.369636</td>\n",
       "      <td>-0.776796</td>\n",
       "      <td>2.222648</td>\n",
       "      <td>-0.472691</td>\n",
       "      <td>1.181476</td>\n",
       "      <td>-0.605232</td>\n",
       "      <td>-0.996090</td>\n",
       "      <td>-0.018460</td>\n",
       "      <td>0.701976</td>\n",
       "      <td>-0.144962</td>\n",
       "      <td>36.2</td>\n",
       "    </tr>\n",
       "  </tbody>\n",
       "</table>\n",
       "</div>"
      ],
      "text/plain": [
       "   CHAS      CRIM        ZN     INDUS       NOX        RM       AGE       DIS  \\\n",
       "0   0.0 -0.520621  1.756789 -1.348057  0.027446  0.918594 -0.047080  0.055799   \n",
       "1   0.0 -0.509409 -0.432585 -0.557917 -0.666213  0.567502  0.483000  0.556424   \n",
       "2   0.0 -0.509419 -0.432585 -0.557917 -0.666213  2.309281 -0.205716  0.556424   \n",
       "3   0.0 -0.506706 -0.432585 -1.369636 -0.776796  1.882955 -0.797703  1.181476   \n",
       "4   0.0 -0.487112 -0.432585 -1.369636 -0.776796  2.222648 -0.472691  1.181476   \n",
       "\n",
       "        RAD       TAX   PTRATIO         B     LSTAT  MEDV  \n",
       "0 -0.899533 -0.468708 -1.968101  0.701976 -1.339965  24.0  \n",
       "1 -0.752382 -0.853554 -0.534541  0.701976 -0.560778  21.6  \n",
       "2 -0.752382 -0.853554 -0.534541  0.338195 -1.517905  34.7  \n",
       "3 -0.605232 -0.996090 -0.018460  0.499081 -1.722067  33.4  \n",
       "4 -0.605232 -0.996090 -0.018460  0.701976 -0.144962  36.2  "
      ]
     },
     "execution_count": 35,
     "metadata": {},
     "output_type": "execute_result"
    }
   ],
   "source": [
    "df_final = pd.concat([df_prepared,sub_df], axis=1)\n",
    "df_final.head()"
   ]
  },
  {
   "cell_type": "code",
   "execution_count": 36,
   "metadata": {},
   "outputs": [
    {
     "data": {
      "text/plain": [
       "CHAS       False\n",
       "CRIM       False\n",
       "ZN         False\n",
       "INDUS      False\n",
       "NOX        False\n",
       "RM         False\n",
       "AGE        False\n",
       "DIS        False\n",
       "RAD        False\n",
       "TAX        False\n",
       "PTRATIO    False\n",
       "B          False\n",
       "LSTAT      False\n",
       "MEDV       False\n",
       "dtype: bool"
      ]
     },
     "execution_count": 36,
     "metadata": {},
     "output_type": "execute_result"
    }
   ],
   "source": [
    "df_final.isnull().any()"
   ]
  },
  {
   "cell_type": "code",
   "execution_count": null,
   "metadata": {},
   "outputs": [],
   "source": []
  },
  {
   "cell_type": "markdown",
   "metadata": {},
   "source": [
    "### Checking correlation and multicollinearity\n",
    "\n",
    "1. Using correation matrix\n",
    "2. VIF"
   ]
  },
  {
   "cell_type": "code",
   "execution_count": 37,
   "metadata": {},
   "outputs": [
    {
     "data": {
      "image/png": "[encoded data removed]",
      "text/plain": [
       "<Figure size 1296x576 with 2 Axes>"
      ]
     },
     "metadata": {
      "needs_background": "light"
     },
     "output_type": "display_data"
    }
   ],
   "source": [
    "cols = df_final.corr()['MEDV'].sort_values(ascending=False).index\n",
    "cm = df_final[cols].corr()\n",
    "\n",
    "plt.figure(figsize=(18,8))\n",
    "sns.heatmap(data=cm, annot=True, cmap='viridis', lw=1)\n",
    "plt.show()"
   ]
  },
  {
   "cell_type": "code",
   "execution_count": null,
   "metadata": {},
   "outputs": [],
   "source": []
  },
  {
   "cell_type": "code",
   "execution_count": 38,
   "metadata": {},
   "outputs": [],
   "source": [
    "import statsmodels.api as sm\n",
    "from statsmodels.stats.outliers_influence import variance_inflation_factor"
   ]
  },
  {
   "cell_type": "markdown",
   "metadata": {},
   "source": [
    "#### Using Inbuilt function"
   ]
  },
  {
   "cell_type": "markdown",
   "metadata": {},
   "source": [
    "vif > 5 means that feature is highly correlated with other features. So we need to remove those features.\n",
    "\n",
    "1. get vif for all features\n",
    "2. if highest vif is > 5 then remove respective feature and repeat from setp 1\n",
    "3. try model building with different features."
   ]
  },
  {
   "cell_type": "code",
   "execution_count": 39,
   "metadata": {},
   "outputs": [],
   "source": [
    "def get_VIF_inbuilt(df):\n",
    "    X = df.values\n",
    "    vals = [round(variance_inflation_factor(X, i), 2) for i in range(X.shape[1])]\n",
    "    vif_final = pd.Series(data=vals, index=df.columns, name='vif')\n",
    "    return vif_final.sort_values(ascending=False)"
   ]
  },
  {
   "cell_type": "code",
   "execution_count": 40,
   "metadata": {},
   "outputs": [
    {
     "data": {
      "text/plain": [
       "RAD        7.65\n",
       "TAX        5.76\n",
       "CRIM       5.01\n",
       "NOX        3.65\n",
       "DIS        3.29\n",
       "LSTAT      2.61\n",
       "INDUS      2.32\n",
       "AGE        2.20\n",
       "RM         1.85\n",
       "ZN         1.59\n",
       "PTRATIO    1.27\n",
       "CHAS       1.11\n",
       "B          1.07\n",
       "Name: vif, dtype: float64"
      ]
     },
     "execution_count": 40,
     "metadata": {},
     "output_type": "execute_result"
    }
   ],
   "source": [
    "get_VIF_inbuilt(df_final.drop('MEDV', axis=1))"
   ]
  },
  {
   "cell_type": "code",
   "execution_count": 41,
   "metadata": {},
   "outputs": [
    {
     "data": {
      "text/plain": [
       "NOX        3.65\n",
       "TAX        3.39\n",
       "DIS        3.28\n",
       "CRIM       2.93\n",
       "LSTAT      2.60\n",
       "INDUS      2.28\n",
       "AGE        2.19\n",
       "RM         1.84\n",
       "ZN         1.57\n",
       "PTRATIO    1.26\n",
       "B          1.07\n",
       "CHAS       1.06\n",
       "Name: vif, dtype: float64"
      ]
     },
     "execution_count": 41,
     "metadata": {},
     "output_type": "execute_result"
    }
   ],
   "source": [
    "# Here we need to remove highest vif feature(RAD) and try again with remaining\n",
    "\n",
    "get_VIF_inbuilt(df_final.drop(['MEDV','RAD'], axis=1))"
   ]
  },
  {
   "cell_type": "code",
   "execution_count": null,
   "metadata": {},
   "outputs": [],
   "source": []
  },
  {
   "cell_type": "markdown",
   "metadata": {},
   "source": [
    "#### Calculating manually"
   ]
  },
  {
   "cell_type": "code",
   "execution_count": 42,
   "metadata": {},
   "outputs": [],
   "source": [
    "def get_vif_manual(df):\n",
    "    vif_vals = []\n",
    "    cols = df.columns\n",
    "    \n",
    "    for i in range(0, len(cols)):\n",
    "        y = df.loc[:, df.columns == cols[i]]\n",
    "        x = df.loc[:, df.columns != cols[i]]\n",
    "        \n",
    "        model = sm.OLS(y, x)\n",
    "        results = model.fit()\n",
    "        rsq = results.rsquared\n",
    "        vif = round(1 / (1 - rsq), 2)\n",
    "        \n",
    "        vif_vals.append(vif)\n",
    "        pass\n",
    "    \n",
    "    vif_final = pd.Series(data=vif_vals, index=cols, name='vif')\n",
    "    return vif_final.sort_values(ascending=False)"
   ]
  },
  {
   "cell_type": "code",
   "execution_count": 43,
   "metadata": {},
   "outputs": [
    {
     "data": {
      "text/plain": [
       "RAD        7.65\n",
       "TAX        5.76\n",
       "CRIM       5.01\n",
       "NOX        3.65\n",
       "DIS        3.29\n",
       "LSTAT      2.61\n",
       "INDUS      2.32\n",
       "AGE        2.20\n",
       "RM         1.85\n",
       "ZN         1.59\n",
       "PTRATIO    1.27\n",
       "CHAS       1.11\n",
       "B          1.07\n",
       "Name: vif, dtype: float64"
      ]
     },
     "execution_count": 43,
     "metadata": {},
     "output_type": "execute_result"
    }
   ],
   "source": [
    "get_vif_manual(df_final.drop('MEDV', axis=1))"
   ]
  },
  {
   "cell_type": "code",
   "execution_count": 44,
   "metadata": {},
   "outputs": [
    {
     "data": {
      "text/plain": [
       "NOX        3.65\n",
       "TAX        3.39\n",
       "DIS        3.28\n",
       "CRIM       2.93\n",
       "LSTAT      2.60\n",
       "INDUS      2.28\n",
       "AGE        2.19\n",
       "RM         1.84\n",
       "ZN         1.57\n",
       "PTRATIO    1.26\n",
       "B          1.07\n",
       "CHAS       1.06\n",
       "Name: vif, dtype: float64"
      ]
     },
     "execution_count": 44,
     "metadata": {},
     "output_type": "execute_result"
    }
   ],
   "source": [
    "# removing feature 'RAD' and try with remaining\n",
    "get_vif_manual(df_final.drop(['MEDV','RAD'], axis=1))"
   ]
  },
  {
   "cell_type": "code",
   "execution_count": null,
   "metadata": {},
   "outputs": [],
   "source": []
  },
  {
   "cell_type": "markdown",
   "metadata": {},
   "source": [
    "#### fully automatic function to remove multicollinearity"
   ]
  },
  {
   "cell_type": "code",
   "execution_count": 45,
   "metadata": {},
   "outputs": [],
   "source": [
    "def remove_multicollinearity(df):\n",
    "    cols_ignore = []\n",
    "    flag = True\n",
    "\n",
    "    while flag:\n",
    "        vif_vals = []\n",
    "        cols = df.columns\n",
    "        for i in range(0, len(cols)):\n",
    "            y = df.loc[:, df.columns == cols[i]]\n",
    "            x = df.loc[:, df.columns != cols[i]]\n",
    "            model = sm.OLS(y, x)\n",
    "            results = model.fit()\n",
    "            rsq = results.rsquared\n",
    "            vif = round(1 / (1 - rsq), 2)\n",
    "            vif_vals.append(vif)\n",
    "            pass #end for\n",
    "        \n",
    "        vif_final = pd.Series(data=vif_vals, index=cols, name='vif')\n",
    "        vif_final = vif_final.sort_values(ascending=False)\n",
    "        \n",
    "        flag = False\n",
    "        \n",
    "        if vif_final[vif_final > 5].any():\n",
    "            col_remove = vif_final.index[0]\n",
    "            cols_ignore.append(col_remove)\n",
    "            df.drop(col_remove, axis=1, inplace=True)\n",
    "            flag = True\n",
    "            pass #end if\n",
    "        pass #end while\n",
    "    \n",
    "    return vif_final, cols_ignore"
   ]
  },
  {
   "cell_type": "code",
   "execution_count": null,
   "metadata": {},
   "outputs": [],
   "source": []
  },
  {
   "cell_type": "code",
   "execution_count": 46,
   "metadata": {},
   "outputs": [
    {
     "name": "stdout",
     "output_type": "stream",
     "text": [
      "Ignore features:  ['RAD']\n"
     ]
    },
    {
     "data": {
      "text/plain": [
       "NOX        3.65\n",
       "TAX        3.39\n",
       "DIS        3.28\n",
       "CRIM       2.93\n",
       "LSTAT      2.60\n",
       "INDUS      2.28\n",
       "AGE        2.19\n",
       "RM         1.84\n",
       "ZN         1.57\n",
       "PTRATIO    1.26\n",
       "B          1.07\n",
       "CHAS       1.06\n",
       "Name: vif, dtype: float64"
      ]
     },
     "execution_count": 46,
     "metadata": {},
     "output_type": "execute_result"
    }
   ],
   "source": [
    "vif, cols_ignore = remove_multicollinearity(df_final.drop('MEDV', axis=1))\n",
    "\n",
    "print('Ignore features: ', cols_ignore)\n",
    "vif"
   ]
  },
  {
   "cell_type": "markdown",
   "metadata": {},
   "source": [
    " "
   ]
  },
  {
   "cell_type": "markdown",
   "metadata": {},
   "source": [
    "##### Now we can build model on above listed features. Here is there's corr. with target column"
   ]
  },
  {
   "cell_type": "code",
   "execution_count": 47,
   "metadata": {},
   "outputs": [
    {
     "data": {
      "text/html": [
       "<div>\n",
       "<style scoped>\n",
       "    .dataframe tbody tr th:only-of-type {\n",
       "        vertical-align: middle;\n",
       "    }\n",
       "\n",
       "    .dataframe tbody tr th {\n",
       "        vertical-align: top;\n",
       "    }\n",
       "\n",
       "    .dataframe thead th {\n",
       "        text-align: right;\n",
       "    }\n",
       "</style>\n",
       "<table border=\"1\" class=\"dataframe\">\n",
       "  <thead>\n",
       "    <tr style=\"text-align: right;\">\n",
       "      <th></th>\n",
       "      <th>vif</th>\n",
       "      <th>corr_with_target</th>\n",
       "    </tr>\n",
       "  </thead>\n",
       "  <tbody>\n",
       "    <tr>\n",
       "      <th>RM</th>\n",
       "      <td>1.84</td>\n",
       "      <td>0.67</td>\n",
       "    </tr>\n",
       "    <tr>\n",
       "      <th>DIS</th>\n",
       "      <td>3.28</td>\n",
       "      <td>0.27</td>\n",
       "    </tr>\n",
       "    <tr>\n",
       "      <th>ZN</th>\n",
       "      <td>1.57</td>\n",
       "      <td>0.16</td>\n",
       "    </tr>\n",
       "    <tr>\n",
       "      <th>B</th>\n",
       "      <td>1.07</td>\n",
       "      <td>0.10</td>\n",
       "    </tr>\n",
       "    <tr>\n",
       "      <th>CHAS</th>\n",
       "      <td>1.06</td>\n",
       "      <td>0.08</td>\n",
       "    </tr>\n",
       "    <tr>\n",
       "      <th>PTRATIO</th>\n",
       "      <td>1.26</td>\n",
       "      <td>-0.30</td>\n",
       "    </tr>\n",
       "    <tr>\n",
       "      <th>CRIM</th>\n",
       "      <td>2.93</td>\n",
       "      <td>-0.31</td>\n",
       "    </tr>\n",
       "    <tr>\n",
       "      <th>TAX</th>\n",
       "      <td>3.39</td>\n",
       "      <td>-0.36</td>\n",
       "    </tr>\n",
       "    <tr>\n",
       "      <th>INDUS</th>\n",
       "      <td>2.28</td>\n",
       "      <td>-0.42</td>\n",
       "    </tr>\n",
       "    <tr>\n",
       "      <th>NOX</th>\n",
       "      <td>3.65</td>\n",
       "      <td>-0.43</td>\n",
       "    </tr>\n",
       "    <tr>\n",
       "      <th>AGE</th>\n",
       "      <td>2.19</td>\n",
       "      <td>-0.43</td>\n",
       "    </tr>\n",
       "    <tr>\n",
       "      <th>LSTAT</th>\n",
       "      <td>2.60</td>\n",
       "      <td>-0.65</td>\n",
       "    </tr>\n",
       "  </tbody>\n",
       "</table>\n",
       "</div>"
      ],
      "text/plain": [
       "          vif  corr_with_target\n",
       "RM       1.84              0.67\n",
       "DIS      3.28              0.27\n",
       "ZN       1.57              0.16\n",
       "B        1.07              0.10\n",
       "CHAS     1.06              0.08\n",
       "PTRATIO  1.26             -0.30\n",
       "CRIM     2.93             -0.31\n",
       "TAX      3.39             -0.36\n",
       "INDUS    2.28             -0.42\n",
       "NOX      3.65             -0.43\n",
       "AGE      2.19             -0.43\n",
       "LSTAT    2.60             -0.65"
      ]
     },
     "execution_count": 47,
     "metadata": {},
     "output_type": "execute_result"
    }
   ],
   "source": [
    "dt = {'vif':vif, 'corr_with_target':round(cm['MEDV'][vif.index], 2)}\n",
    "pd.DataFrame(data=dt).sort_values(by=['corr_with_target'], ascending=False)"
   ]
  },
  {
   "cell_type": "markdown",
   "metadata": {},
   "source": [
    " "
   ]
  },
  {
   "cell_type": "code",
   "execution_count": null,
   "metadata": {},
   "outputs": [],
   "source": []
  },
  {
   "cell_type": "markdown",
   "metadata": {},
   "source": [
    "### Feature selection\n",
    "\n",
    "Manually selecting features and checking model's performance is very time consuming process so we will use inbuilt methods."
   ]
  },
  {
   "cell_type": "code",
   "execution_count": 49,
   "metadata": {},
   "outputs": [],
   "source": [
    "X = df_final.drop('MEDV', axis=1)\n",
    "y = df_final['MEDV']"
   ]
  },
  {
   "cell_type": "code",
   "execution_count": 50,
   "metadata": {},
   "outputs": [],
   "source": [
    "from sklearn.feature_selection import SelectKBest, f_regression"
   ]
  },
  {
   "cell_type": "code",
   "execution_count": 51,
   "metadata": {},
   "outputs": [],
   "source": [
    "skb = SelectKBest(f_regression)"
   ]
  },
  {
   "cell_type": "code",
   "execution_count": 52,
   "metadata": {},
   "outputs": [],
   "source": [
    "x_vals = skb.fit_transform(X, y)"
   ]
  },
  {
   "cell_type": "code",
   "execution_count": 53,
   "metadata": {},
   "outputs": [],
   "source": [
    "df_selected = pd.DataFrame(data=x_vals, columns=X.columns[skb.get_support()])"
   ]
  },
  {
   "cell_type": "code",
   "execution_count": 229,
   "metadata": {},
   "outputs": [
    {
     "name": "stdout",
     "output_type": "stream",
     "text": [
      "Total features selected:  10\n",
      "Features:  ['CRIM', 'INDUS', 'NOX', 'RM', 'AGE', 'DIS', 'RAD', 'TAX', 'PTRATIO', 'LSTAT']\n"
     ]
    }
   ],
   "source": [
    "print('Total features selected: ', len(list(df_selected)))\n",
    "print('Features: ', list(df_selected))"
   ]
  },
  {
   "cell_type": "code",
   "execution_count": null,
   "metadata": {},
   "outputs": [],
   "source": []
  },
  {
   "cell_type": "markdown",
   "metadata": {},
   "source": [
    "### Splitting dataset"
   ]
  },
  {
   "cell_type": "code",
   "execution_count": 256,
   "metadata": {},
   "outputs": [],
   "source": [
    "from sklearn.model_selection import train_test_split"
   ]
  },
  {
   "cell_type": "code",
   "execution_count": 257,
   "metadata": {},
   "outputs": [],
   "source": [
    "X_train, X_test, y_train, y_test = train_test_split(df_selected, y, test_size = 0.2, random_state = 42)"
   ]
  },
  {
   "cell_type": "code",
   "execution_count": 258,
   "metadata": {},
   "outputs": [
    {
     "name": "stdout",
     "output_type": "stream",
     "text": [
      "X_train shape:  (233, 10)\n",
      "y_train shape:  (233,)\n",
      "---------------------------\n",
      "X_test shape:  (59, 10)\n",
      "y_test shape:  (59,)\n"
     ]
    }
   ],
   "source": [
    "print('X_train shape: ', X_train.shape)\n",
    "print('y_train shape: ', y_train.shape)\n",
    "print('---------------------------')\n",
    "print('X_test shape: ', X_test.shape)\n",
    "print('y_test shape: ', y_test.shape)"
   ]
  },
  {
   "cell_type": "code",
   "execution_count": null,
   "metadata": {},
   "outputs": [],
   "source": []
  },
  {
   "cell_type": "markdown",
   "metadata": {},
   "source": [
    " "
   ]
  },
  {
   "cell_type": "markdown",
   "metadata": {},
   "source": [
    "### Model Building\n",
    "\n",
    "1. LinearRegression\n",
    "2. Ridge\n",
    "3. Lasso\n",
    "4. DecisionTreeRegressor\n",
    "5. RandomForestRegressor\n",
    "6. xgboost"
   ]
  },
  {
   "cell_type": "code",
   "execution_count": 2,
   "metadata": {},
   "outputs": [],
   "source": [
    "from sklearn.linear_model import LinearRegression, Ridge, Lasso\n",
    "from sklearn.tree import DecisionTreeRegressor\n",
    "from sklearn.ensemble import RandomForestRegressor\n",
    "from xgboost import XGBRegressor"
   ]
  },
  {
   "cell_type": "code",
   "execution_count": 3,
   "metadata": {},
   "outputs": [],
   "source": [
    "def get_model_score(model, X_train, y_train, X_test, y_test):\n",
    "    '''\n",
    "    Returns the coefficient of determination R^2 of the prediction.\n",
    "    '''\n",
    "    \n",
    "    model.fit(X_train,y_train)\n",
    "    train_score = model.score(X_train,y_train)\n",
    "    test_score = model.score(X_test,y_test)\n",
    "\n",
    "    return train_score, test_score"
   ]
  },
  {
   "cell_type": "code",
   "execution_count": 253,
   "metadata": {},
   "outputs": [],
   "source": [
    "models = {\n",
    "                'linear':LinearRegression(),\n",
    "                'ridge':Ridge(alpha=10),\n",
    "                'lasso':Lasso(alpha=0.01),\n",
    "                'dtr':DecisionTreeRegressor(),\n",
    "                'rfr':RandomForestRegressor(),\n",
    "                'xgbr':XGBRegressor()\n",
    "            }\n",
    "\n",
    "model_res = pd.DataFrame(index=models.keys(), columns=['Training score','Testing score'])\n",
    "model_res.index.name = 'Models'"
   ]
  },
  {
   "cell_type": "code",
   "execution_count": 259,
   "metadata": {},
   "outputs": [
    {
     "data": {
      "text/html": [
       "<div>\n",
       "<style scoped>\n",
       "    .dataframe tbody tr th:only-of-type {\n",
       "        vertical-align: middle;\n",
       "    }\n",
       "\n",
       "    .dataframe tbody tr th {\n",
       "        vertical-align: top;\n",
       "    }\n",
       "\n",
       "    .dataframe thead th {\n",
       "        text-align: right;\n",
       "    }\n",
       "</style>\n",
       "<table border=\"1\" class=\"dataframe\">\n",
       "  <thead>\n",
       "    <tr style=\"text-align: right;\">\n",
       "      <th></th>\n",
       "      <th>Training score</th>\n",
       "      <th>Testing score</th>\n",
       "    </tr>\n",
       "    <tr>\n",
       "      <th>Models</th>\n",
       "      <th></th>\n",
       "      <th></th>\n",
       "    </tr>\n",
       "  </thead>\n",
       "  <tbody>\n",
       "    <tr>\n",
       "      <th>xgbr</th>\n",
       "      <td>1</td>\n",
       "      <td>0.83</td>\n",
       "    </tr>\n",
       "    <tr>\n",
       "      <th>rfr</th>\n",
       "      <td>0.94</td>\n",
       "      <td>0.76</td>\n",
       "    </tr>\n",
       "    <tr>\n",
       "      <th>ridge</th>\n",
       "      <td>0.69</td>\n",
       "      <td>0.68</td>\n",
       "    </tr>\n",
       "    <tr>\n",
       "      <th>linear</th>\n",
       "      <td>0.7</td>\n",
       "      <td>0.65</td>\n",
       "    </tr>\n",
       "    <tr>\n",
       "      <th>lasso</th>\n",
       "      <td>0.7</td>\n",
       "      <td>0.65</td>\n",
       "    </tr>\n",
       "    <tr>\n",
       "      <th>dtr</th>\n",
       "      <td>1</td>\n",
       "      <td>0.49</td>\n",
       "    </tr>\n",
       "  </tbody>\n",
       "</table>\n",
       "</div>"
      ],
      "text/plain": [
       "       Training score Testing score\n",
       "Models                             \n",
       "xgbr                1          0.83\n",
       "rfr              0.94          0.76\n",
       "ridge            0.69          0.68\n",
       "linear            0.7          0.65\n",
       "lasso             0.7          0.65\n",
       "dtr                 1          0.49"
      ]
     },
     "execution_count": 259,
     "metadata": {},
     "output_type": "execute_result"
    }
   ],
   "source": [
    "for name, model in models.items():\n",
    "    train_score,test_score = get_model_score(model, X_train, y_train, X_test, y_test)\n",
    "    model_res.loc[name]['Training score'] = round(train_score, 2)\n",
    "    model_res.loc[name]['Testing score'] = round(test_score, 2)\n",
    "    pass\n",
    "\n",
    "model_res.sort_values(by=['Testing score'], ascending=False)"
   ]
  },
  {
   "cell_type": "code",
   "execution_count": null,
   "metadata": {},
   "outputs": [],
   "source": []
  },
  {
   "cell_type": "code",
   "execution_count": null,
   "metadata": {},
   "outputs": [],
   "source": []
  },
  {
   "cell_type": "markdown",
   "metadata": {},
   "source": [
    "### Hyperparameter tuning"
   ]
  },
  {
   "cell_type": "code",
   "execution_count": 93,
   "metadata": {},
   "outputs": [],
   "source": [
    "from sklearn.model_selection import RandomizedSearchCV"
   ]
  },
  {
   "cell_type": "code",
   "execution_count": 178,
   "metadata": {},
   "outputs": [],
   "source": [
    "model_para = {\n",
    "    'ridge':{\n",
    "        'model':Ridge(random_state=42),\n",
    "        'params':{\n",
    "            'alpha':[0.0001,0.001,0.01,0.1,1,2,5,10,20,30,40,50,80,100],\n",
    "            'max_iter':[1000,5000,10000]\n",
    "        }\n",
    "    },\n",
    "    'lasso':{\n",
    "        'model':Lasso(random_state=42),\n",
    "        'params':{\n",
    "            'alpha':[0.0001,0.001,0.01,0.1,1,2,3,5],\n",
    "            'max_iter':[1000,5000,10000],\n",
    "            'selection':['cyclic','random']\n",
    "        }\n",
    "    },\n",
    "    'dt':{\n",
    "        'model':DecisionTreeRegressor(random_state=42),\n",
    "        'params':{\n",
    "            'max_features': ['auto', 'sqrt', 'log2'],\n",
    "            'max_depth': [2,3,5,10,15],\n",
    "            'min_samples_split': [2,3,4,5,6,7,8,9,10,11,12,13,14,15], \n",
    "            'min_samples_leaf':[1,2,3,4,5,6,7,8,9,10,11]\n",
    "        }\n",
    "    },\n",
    "    'rfr':{\n",
    "        'model':RandomForestRegressor(random_state=42),\n",
    "        'params':{\n",
    "            'max_features':['auto','sqrt'],\n",
    "            'bootstrap':[True,False],\n",
    "            'max_depth':[1,2,3,4,5],\n",
    "            'min_samples_leaf':[1,2,3],\n",
    "            'min_samples_split':[2,3,4,5],\n",
    "            'n_estimators':[int(x) for x in np.linspace(100,1200,12)]\n",
    "        }\n",
    "    },\n",
    "    'xgbr':{\n",
    "        'model':XGBRegressor(random_state=42),\n",
    "        'params':{\n",
    "            'n_estimators':[100,500,900,1100,1500],\n",
    "            'max_dept':[2,3,5,10,15],\n",
    "            'booster':['gbtree','gblinear'],\n",
    "            'learning_rate':[0.05,0.1,0.15,0.20],\n",
    "            'min_child_weight':[1,2,3,4]\n",
    "        }\n",
    "    }\n",
    "}"
   ]
  },
  {
   "cell_type": "code",
   "execution_count": null,
   "metadata": {},
   "outputs": [],
   "source": []
  },
  {
   "cell_type": "code",
   "execution_count": 153,
   "metadata": {},
   "outputs": [
    {
     "name": "stdout",
     "output_type": "stream",
     "text": [
      "Wall time: 1min 40s\n"
     ]
    }
   ],
   "source": [
    "%%time\n",
    "scores = []\n",
    "\n",
    "for m_name,m_para in model_para.items():\n",
    "    rgsr = RandomizedSearchCV(estimator=m_para['model'], param_distributions=m_para['params'], cv=5, return_train_score=False, random_state=42)\n",
    "    rgsr.fit(X_train,y_train)\n",
    "    \n",
    "    scores.append({\n",
    "        'model':m_name,\n",
    "        'best_scores': round(rgsr.best_score_, 2),\n",
    "        'best_para':rgsr.best_params_\n",
    "    })"
   ]
  },
  {
   "cell_type": "code",
   "execution_count": null,
   "metadata": {},
   "outputs": [],
   "source": []
  },
  {
   "cell_type": "code",
   "execution_count": 101,
   "metadata": {},
   "outputs": [],
   "source": [
    "pd.set_option('display.max_colwidth', None)"
   ]
  },
  {
   "cell_type": "code",
   "execution_count": 154,
   "metadata": {},
   "outputs": [
    {
     "data": {
      "text/html": [
       "<div>\n",
       "<style scoped>\n",
       "    .dataframe tbody tr th:only-of-type {\n",
       "        vertical-align: middle;\n",
       "    }\n",
       "\n",
       "    .dataframe tbody tr th {\n",
       "        vertical-align: top;\n",
       "    }\n",
       "\n",
       "    .dataframe thead th {\n",
       "        text-align: right;\n",
       "    }\n",
       "</style>\n",
       "<table border=\"1\" class=\"dataframe\">\n",
       "  <thead>\n",
       "    <tr style=\"text-align: right;\">\n",
       "      <th></th>\n",
       "      <th>model</th>\n",
       "      <th>best_scores</th>\n",
       "      <th>best_para</th>\n",
       "    </tr>\n",
       "  </thead>\n",
       "  <tbody>\n",
       "    <tr>\n",
       "      <th>4</th>\n",
       "      <td>xgbr</td>\n",
       "      <td>0.70</td>\n",
       "      <td>{'n_estimators': 500, 'min_child_weight': 2, 'max_dept': 10, 'learning_rate': 0.05, 'booster': 'gbtree'}</td>\n",
       "    </tr>\n",
       "    <tr>\n",
       "      <th>3</th>\n",
       "      <td>rfr</td>\n",
       "      <td>0.66</td>\n",
       "      <td>{'n_estimators': 400, 'min_samples_split': 5, 'min_samples_leaf': 2, 'max_features': 'sqrt', 'max_depth': 4, 'bootstrap': True}</td>\n",
       "    </tr>\n",
       "    <tr>\n",
       "      <th>0</th>\n",
       "      <td>ridge</td>\n",
       "      <td>0.65</td>\n",
       "      <td>{'max_iter': 5000, 'alpha': 5}</td>\n",
       "    </tr>\n",
       "    <tr>\n",
       "      <th>1</th>\n",
       "      <td>lasso</td>\n",
       "      <td>0.65</td>\n",
       "      <td>{'selection': 'cyclic', 'max_iter': 1000, 'alpha': 0.01}</td>\n",
       "    </tr>\n",
       "    <tr>\n",
       "      <th>2</th>\n",
       "      <td>dt</td>\n",
       "      <td>0.53</td>\n",
       "      <td>{'min_samples_split': 12, 'min_samples_leaf': 4, 'max_features': 'sqrt', 'max_depth': 5}</td>\n",
       "    </tr>\n",
       "  </tbody>\n",
       "</table>\n",
       "</div>"
      ],
      "text/plain": [
       "   model  best_scores  \\\n",
       "4   xgbr         0.70   \n",
       "3    rfr         0.66   \n",
       "0  ridge         0.65   \n",
       "1  lasso         0.65   \n",
       "2     dt         0.53   \n",
       "\n",
       "                                                                                                                         best_para  \n",
       "4                         {'n_estimators': 500, 'min_child_weight': 2, 'max_dept': 10, 'learning_rate': 0.05, 'booster': 'gbtree'}  \n",
       "3  {'n_estimators': 400, 'min_samples_split': 5, 'min_samples_leaf': 2, 'max_features': 'sqrt', 'max_depth': 4, 'bootstrap': True}  \n",
       "0                                                                                                   {'max_iter': 5000, 'alpha': 5}  \n",
       "1                                                                         {'selection': 'cyclic', 'max_iter': 1000, 'alpha': 0.01}  \n",
       "2                                         {'min_samples_split': 12, 'min_samples_leaf': 4, 'max_features': 'sqrt', 'max_depth': 5}  "
      ]
     },
     "execution_count": 154,
     "metadata": {},
     "output_type": "execute_result"
    }
   ],
   "source": [
    "df_scores = pd.DataFrame(data=scores, columns=['model','best_scores','best_para'])\n",
    "df_scores.sort_values(by=['best_scores'], ascending=False)"
   ]
  },
  {
   "cell_type": "code",
   "execution_count": null,
   "metadata": {},
   "outputs": [],
   "source": []
  },
  {
   "cell_type": "code",
   "execution_count": 220,
   "metadata": {},
   "outputs": [],
   "source": [
    "xgbr = XGBRegressor(n_estimators=500, min_child_weight=2, max_dept=10, learning_rate=0.05, booster='gbtree', random_state=42)\n",
    "rfr = RandomForestRegressor(n_estimators=400, min_samples_split=5, min_samples_leaf=2, max_features='sqrt', max_depth=4, bootstrap=True, random_state=42)\n",
    "ridge = Ridge(alpha=5, max_iter=5000, random_state=42)\n",
    "lasso = Lasso(alpha=0.01, max_iter=1000, selection='cyclic', random_state=42)\n",
    "dtr = DecisionTreeRegressor(max_depth=5, max_features='sqrt', min_samples_leaf=4, min_samples_split=12, random_state=42)\n",
    "\n",
    "models = {\n",
    "                'ridge':ridge,\n",
    "                'lasso':lasso,\n",
    "                'dtr':dtr,\n",
    "                'rfr':rfr,\n",
    "                'xgbr':xgbr\n",
    "            }\n",
    "model_res = pd.DataFrame(index=models.keys(), columns=['Training score','Testing score'])\n",
    "model_res.index.name = 'Models'"
   ]
  },
  {
   "cell_type": "markdown",
   "metadata": {},
   "source": [
    " "
   ]
  },
  {
   "cell_type": "code",
   "execution_count": 221,
   "metadata": {},
   "outputs": [
    {
     "data": {
      "text/html": [
       "<div>\n",
       "<style scoped>\n",
       "    .dataframe tbody tr th:only-of-type {\n",
       "        vertical-align: middle;\n",
       "    }\n",
       "\n",
       "    .dataframe tbody tr th {\n",
       "        vertical-align: top;\n",
       "    }\n",
       "\n",
       "    .dataframe thead th {\n",
       "        text-align: right;\n",
       "    }\n",
       "</style>\n",
       "<table border=\"1\" class=\"dataframe\">\n",
       "  <thead>\n",
       "    <tr style=\"text-align: right;\">\n",
       "      <th></th>\n",
       "      <th>Training score</th>\n",
       "      <th>Testing score</th>\n",
       "    </tr>\n",
       "    <tr>\n",
       "      <th>Models</th>\n",
       "      <th></th>\n",
       "      <th></th>\n",
       "    </tr>\n",
       "  </thead>\n",
       "  <tbody>\n",
       "    <tr>\n",
       "      <th>xgbr</th>\n",
       "      <td>1</td>\n",
       "      <td>0.84</td>\n",
       "    </tr>\n",
       "    <tr>\n",
       "      <th>rfr</th>\n",
       "      <td>0.81</td>\n",
       "      <td>0.74</td>\n",
       "    </tr>\n",
       "    <tr>\n",
       "      <th>ridge</th>\n",
       "      <td>0.69</td>\n",
       "      <td>0.67</td>\n",
       "    </tr>\n",
       "    <tr>\n",
       "      <th>lasso</th>\n",
       "      <td>0.7</td>\n",
       "      <td>0.65</td>\n",
       "    </tr>\n",
       "    <tr>\n",
       "      <th>dtr</th>\n",
       "      <td>0.77</td>\n",
       "      <td>0.57</td>\n",
       "    </tr>\n",
       "  </tbody>\n",
       "</table>\n",
       "</div>"
      ],
      "text/plain": [
       "       Training score Testing score\n",
       "Models                             \n",
       "xgbr                1          0.84\n",
       "rfr              0.81          0.74\n",
       "ridge            0.69          0.67\n",
       "lasso             0.7          0.65\n",
       "dtr              0.77          0.57"
      ]
     },
     "execution_count": 221,
     "metadata": {},
     "output_type": "execute_result"
    }
   ],
   "source": [
    "for name, model in models.items():\n",
    "    train_score,test_score = get_model_score(model, X_train, y_train, X_test, y_test)\n",
    "    model_res.loc[name]['Training score'] = round(train_score, 2)\n",
    "    model_res.loc[name]['Testing score'] = round(test_score, 2)\n",
    "    pass\n",
    "\n",
    "model_res.sort_values(by=['Testing score'], ascending=False)"
   ]
  },
  {
   "cell_type": "markdown",
   "metadata": {},
   "source": [
    " "
   ]
  },
  {
   "cell_type": "markdown",
   "metadata": {},
   "source": [
    "#### From above table, Xgboost model overfits so we choose to go with RandomForestRegressor"
   ]
  },
  {
   "cell_type": "code",
   "execution_count": 203,
   "metadata": {},
   "outputs": [],
   "source": [
    "from sklearn.metrics import mean_absolute_error, mean_squared_error"
   ]
  },
  {
   "cell_type": "code",
   "execution_count": 192,
   "metadata": {},
   "outputs": [
    {
     "data": {
      "text/plain": [
       "RandomForestRegressor(bootstrap=True, criterion='mse', max_depth=4,\n",
       "           max_features='sqrt', max_leaf_nodes=None,\n",
       "           min_impurity_decrease=0.0, min_impurity_split=None,\n",
       "           min_samples_leaf=2, min_samples_split=5,\n",
       "           min_weight_fraction_leaf=0.0, n_estimators=400, n_jobs=1,\n",
       "           oob_score=False, random_state=42, verbose=0, warm_start=False)"
      ]
     },
     "execution_count": 192,
     "metadata": {},
     "output_type": "execute_result"
    }
   ],
   "source": [
    "rfr = RandomForestRegressor(n_estimators=400, min_samples_split=5, min_samples_leaf=2, max_features='sqrt', max_depth=4, bootstrap=True, random_state=42)\n",
    "rfr.fit(X_train,y_train)"
   ]
  },
  {
   "cell_type": "code",
   "execution_count": 222,
   "metadata": {},
   "outputs": [
    {
     "name": "stdout",
     "output_type": "stream",
     "text": [
      "Train score:  0.81\n",
      "Test score:  0.74\n",
      "MAE:  1.61\n",
      "MSE:  4.35\n",
      "RMSE:  2.09\n"
     ]
    }
   ],
   "source": [
    "y_pred = rfr.predict(X_test)\n",
    "train_score = round(rfr.score(X_train,y_train), 2)\n",
    "test_score = round(rfr.score(X_test,y_test), 2)\n",
    "\n",
    "mae = round(mean_absolute_error(y_test, y_pred), 2)\n",
    "mse = round(mean_squared_error(y_test, y_pred), 2)\n",
    "rmse = round(np.sqrt(mse), 2)\n",
    "\n",
    "print('Train score: ', train_score)\n",
    "print('Test score: ', test_score)\n",
    "print('MAE: ', mae)\n",
    "print('MSE: ', mse)\n",
    "print('RMSE: ', rmse)"
   ]
  },
  {
   "cell_type": "code",
   "execution_count": 206,
   "metadata": {},
   "outputs": [
    {
     "data": {
      "text/plain": [
       "<matplotlib.axes._subplots.AxesSubplot at 0x168fd1a5ba8>"
      ]
     },
     "execution_count": 206,
     "metadata": {},
     "output_type": "execute_result"
    },
    {
     "data": {
      "image/png": "[encoded data removed]",
      "text/plain": [
       "<Figure size 432x288 with 1 Axes>"
      ]
     },
     "metadata": {
      "needs_background": "light"
     },
     "output_type": "display_data"
    }
   ],
   "source": [
    "sns.distplot((y_test - y_pred))"
   ]
  },
  {
   "cell_type": "code",
   "execution_count": 207,
   "metadata": {},
   "outputs": [
    {
     "data": {
      "text/plain": [
       "<matplotlib.axes._subplots.AxesSubplot at 0x168fbd9e470>"
      ]
     },
     "execution_count": 207,
     "metadata": {},
     "output_type": "execute_result"
    },
    {
     "data": {
      "image/png": "[encoded data removed]",
      "text/plain": [
       "<Figure size 432x288 with 1 Axes>"
      ]
     },
     "metadata": {
      "needs_background": "light"
     },
     "output_type": "display_data"
    }
   ],
   "source": [
    "sns.scatterplot(y_test, y_pred)"
   ]
  },
  {
   "cell_type": "code",
   "execution_count": null,
   "metadata": {},
   "outputs": [],
   "source": []
  },
  {
   "cell_type": "code",
   "execution_count": null,
   "metadata": {},
   "outputs": [],
   "source": []
  }
 ],
 "metadata": {
  "kernelspec": {
   "display_name": "Python 3",
   "language": "python",
   "name": "python3"
  },
  "language_info": {
   "codemirror_mode": {
    "name": "ipython",
    "version": 3
   },
   "file_extension": ".py",
   "mimetype": "text/x-python",
   "name": "python",
   "nbconvert_exporter": "python",
   "pygments_lexer": "ipython3",
   "version": "3.7.0"
  }
 },
 "nbformat": 4,
 "nbformat_minor": 2
}
